{
 "cells": [
  {
   "cell_type": "markdown",
   "metadata": {},
   "source": [
    "# Ridge Regression and the LASSO\n",
    "\n",
    "We'll look at regression using ridge regression and the LASSO. We'll use the Boston house prices dataset, which gives house prices for 506 Boston houses against 13 predictive variables. We'll see that the different regression methods give us rather different results and performance."
   ]
  },
  {
   "cell_type": "code",
   "execution_count": 16,
   "metadata": {},
   "outputs": [],
   "source": [
    "import numpy as np\n",
    "import matplotlib.pyplot as plt\n",
    "from sklearn.linear_model import LinearRegression\n",
    "from sklearn.linear_model import Ridge\n",
    "from sklearn.linear_model import Lasso\n",
    "from sklearn.model_selection import train_test_split\n",
    "from sklearn.datasets import load_boston\n",
    "\n",
    "boston = load_boston()\n",
    "X = boston.data # inputs/predictors\n",
    "y = boston.target #outputs/prices\n",
    "\n",
    "#Divide the set into training and test\n",
    "X_train, X_test, y_train, y_test = train_test_split(X, y, test_size=0.2)"
   ]
  },
  {
   "cell_type": "code",
   "execution_count": 173,
   "metadata": {
    "scrolled": true
   },
   "outputs": [
    {
     "name": "stdout",
     "output_type": "stream",
     "text": [
      "Boston House Prices dataset\n",
      "===========================\n",
      "\n",
      "Notes\n",
      "------\n",
      "Data Set Characteristics:  \n",
      "\n",
      "    :Number of Instances: 506 \n",
      "\n",
      "    :Number of Attributes: 13 numeric/categorical predictive\n",
      "    \n",
      "    :Median Value (attribute 14) is usually the target\n",
      "\n",
      "    :Attribute Information (in order):\n",
      "        - CRIM     per capita crime rate by town\n",
      "        - ZN       proportion of residential land zoned for lots over 25,000 sq.ft.\n",
      "        - INDUS    proportion of non-retail business acres per town\n",
      "        - CHAS     Charles River dummy variable (= 1 if tract bounds river; 0 otherwise)\n",
      "        - NOX      nitric oxides concentration (parts per 10 million)\n",
      "        - RM       average number of rooms per dwelling\n",
      "        - AGE      proportion of owner-occupied units built prior to 1940\n",
      "        - DIS      weighted distances to five Boston employment centres\n",
      "        - RAD      index of accessibility to radial highways\n",
      "        - TAX      full-value property-tax rate per $10,000\n",
      "        - PTRATIO  pupil-teacher ratio by town\n",
      "        - B        1000(Bk - 0.63)^2 where Bk is the proportion of blacks by town\n",
      "        - LSTAT    % lower status of the population\n",
      "        - MEDV     Median value of owner-occupied homes in $1000's\n",
      "\n",
      "    :Missing Attribute Values: None\n",
      "\n",
      "    :Creator: Harrison, D. and Rubinfeld, D.L.\n",
      "\n",
      "This is a copy of UCI ML housing dataset.\n",
      "http://archive.ics.uci.edu/ml/datasets/Housing\n",
      "\n",
      "\n",
      "This dataset was taken from the StatLib library which is maintained at Carnegie Mellon University.\n",
      "\n",
      "The Boston house-price data of Harrison, D. and Rubinfeld, D.L. 'Hedonic\n",
      "prices and the demand for clean air', J. Environ. Economics & Management,\n",
      "vol.5, 81-102, 1978.   Used in Belsley, Kuh & Welsch, 'Regression diagnostics\n",
      "...', Wiley, 1980.   N.B. Various transformations are used in the table on\n",
      "pages 244-261 of the latter.\n",
      "\n",
      "The Boston house-price data has been used in many machine learning papers that address regression\n",
      "problems.   \n",
      "     \n",
      "**References**\n",
      "\n",
      "   - Belsley, Kuh & Welsch, 'Regression diagnostics: Identifying Influential Data and Sources of Collinearity', Wiley, 1980. 244-261.\n",
      "   - Quinlan,R. (1993). Combining Instance-Based and Model-Based Learning. In Proceedings on the Tenth International Conference of Machine Learning, 236-243, University of Massachusetts, Amherst. Morgan Kaufmann.\n",
      "   - many more! (see http://archive.ics.uci.edu/ml/datasets/Housing)\n",
      "\n"
     ]
    }
   ],
   "source": [
    "print(boston.DESCR)"
   ]
  },
  {
   "cell_type": "markdown",
   "metadata": {},
   "source": [
    "As you can see, the dataset considers 13 different predictors, including crime rates, property tax, as well as racial and socioeconomic factors. This data is extracted from US Census data; Boston and its environs were partitioned into 506 parcels, and the median home value in each parcel was calculated and the predictor values were collected for each parcel.\n",
    "\n",
    "Let's look at a few data points to get a sense of scale."
   ]
  },
  {
   "cell_type": "code",
   "execution_count": 2,
   "metadata": {},
   "outputs": [
    {
     "name": "stdout",
     "output_type": "stream",
     "text": [
      "[[  2.24890000e-01   1.25000000e+01   7.87000000e+00   0.00000000e+00\n",
      "    5.24000000e-01   6.37700000e+00   9.43000000e+01   6.34670000e+00\n",
      "    5.00000000e+00   3.11000000e+02   1.52000000e+01   3.92520000e+02\n",
      "    2.04500000e+01]\n",
      " [  1.17470000e-01   1.25000000e+01   7.87000000e+00   0.00000000e+00\n",
      "    5.24000000e-01   6.00900000e+00   8.29000000e+01   6.22670000e+00\n",
      "    5.00000000e+00   3.11000000e+02   1.52000000e+01   3.96900000e+02\n",
      "    1.32700000e+01]\n",
      " [  9.37800000e-02   1.25000000e+01   7.87000000e+00   0.00000000e+00\n",
      "    5.24000000e-01   5.88900000e+00   3.90000000e+01   5.45090000e+00\n",
      "    5.00000000e+00   3.11000000e+02   1.52000000e+01   3.90500000e+02\n",
      "    1.57100000e+01]]\n",
      "[ 15.   18.9  21.7]\n"
     ]
    }
   ],
   "source": [
    "print(X[10:10+3,:])\n",
    "print(y[10:10+3])"
   ]
  },
  {
   "cell_type": "markdown",
   "metadata": {},
   "source": [
    "The house prices are given in units of $1000 -- and these prices were recorded in the 1970s! On the other hand, the NOX concentration values are small, measured in parts per 10 million.\n",
    "\n",
    "Let's run a standard linear regression and see what we get."
   ]
  },
  {
   "cell_type": "code",
   "execution_count": 17,
   "metadata": {},
   "outputs": [
    {
     "name": "stdout",
     "output_type": "stream",
     "text": [
      "34.0842148665\n"
     ]
    },
    {
     "data": {
      "image/png": "[encoded data removed]",
      "text/plain": [
       "<matplotlib.figure.Figure at 0x2639dcd9a58>"
      ]
     },
     "metadata": {},
     "output_type": "display_data"
    }
   ],
   "source": [
    "lr = LinearRegression()\n",
    "lr.fit(X_train,y_train)\n",
    "\n",
    "print(lr.intercept_)\n",
    "plt.stem(lr.coef_)\n",
    "my_xticks = ['CRIM','ZN','INDUS','CHAS','NOX','RM','AGE','DIS','RAD','TAX','PTRATIO','B','LSTAT']\n",
    "plt.xticks(np.arange(13), my_xticks)\n",
    "plt.show()"
   ]
  },
  {
   "cell_type": "markdown",
   "metadata": {},
   "source": [
    "The intercept gives the baseline average price, at ~$27,000. Proximity to the Charles river and number of rooms increases the predicted price, whereas distance from employment centers, pupil-teacher ratio, and NOX concentration decrease it.\n",
    "\n",
    "Let's see how well this linear regression works in terms of mean-squared error on the test set."
   ]
  },
  {
   "cell_type": "code",
   "execution_count": 18,
   "metadata": {},
   "outputs": [
    {
     "name": "stdout",
     "output_type": "stream",
     "text": [
      "0.525522466237\n"
     ]
    }
   ],
   "source": [
    "y_pred = lr.predict(X_test)\n",
    "MSE = 1/len(y_test)*np.linalg.norm(y_test - y_pred)\n",
    "print(MSE)"
   ]
  },
  {
   "cell_type": "markdown",
   "metadata": {},
   "source": [
    "This simple model predicts the test prices to within ~$750. This isn't bad. Given that we have ~500 data samples with which to estimate 14 regression coefficients, we can be reasonably confident that we have not overfit to the dataset.\n",
    "\n",
    "Nevertheless, let's try out ridge regression and see how the results change."
   ]
  },
  {
   "cell_type": "code",
   "execution_count": 19,
   "metadata": {},
   "outputs": [
    {
     "name": "stdout",
     "output_type": "stream",
     "text": [
      "26.3429025477\n"
     ]
    },
    {
     "data": {
      "image/png": "[encoded data removed]",
      "text/plain": [
       "<matplotlib.figure.Figure at 0x2639fa2ccf8>"
      ]
     },
     "metadata": {},
     "output_type": "display_data"
    }
   ],
   "source": [
    "rr = Ridge(alpha=10.0)\n",
    "rr.fit(X_train,y_train)\n",
    "\n",
    "print(rr.intercept_)\n",
    "plt.stem(rr.coef_)\n",
    "my_xticks = ['CRIM','ZN','INDUS','CHAS','NOX','RM','AGE','DIS','RAD','TAX','PTRATIO','B','LSTAT']\n",
    "plt.xticks(np.arange(13), my_xticks)\n",
    "plt.show()"
   ]
  },
  {
   "cell_type": "markdown",
   "metadata": {},
   "source": [
    "The basic trends are the same. Note that all of the coefficients are smaller in magnitude, and in particular the coefficient associated with the NOX value is much smaller. Otherwise the trends are essentially unchanged.\n",
    "\n",
    "Now let's see how well the ridge-regressed model predicts the test set values."
   ]
  },
  {
   "cell_type": "code",
   "execution_count": 20,
   "metadata": {},
   "outputs": [
    {
     "name": "stdout",
     "output_type": "stream",
     "text": [
      "0.53829585972\n"
     ]
    }
   ],
   "source": [
    "y_pred = rr.predict(X_test)\n",
    "MSE = 1/len(y_test)*np.linalg.norm(y_test - y_pred)\n",
    "print(MSE)"
   ]
  },
  {
   "cell_type": "markdown",
   "metadata": {},
   "source": [
    "The mean-squared error is slightly worse. For larger values of alpha, we are likely to get worse MSE performance in exchange for a simpler model. Since the original model is very unlikely to have overfit, there isn't as much advantage in regularizing the norm of the coefficients.\n",
    "\n",
    "Next, let's try LASSO."
   ]
  },
  {
   "cell_type": "code",
   "execution_count": 21,
   "metadata": {},
   "outputs": [
    {
     "name": "stdout",
     "output_type": "stream",
     "text": [
      "41.0660847685\n"
     ]
    },
    {
     "data": {
      "image/png": "[encoded data removed]",
      "text/plain": [
       "<matplotlib.figure.Figure at 0x2639f94a358>"
      ]
     },
     "metadata": {},
     "output_type": "display_data"
    }
   ],
   "source": [
    "lasso = Lasso(alpha=1.0)\n",
    "lasso.fit(X,y)\n",
    "\n",
    "print(lasso.intercept_)\n",
    "plt.stem(lasso.coef_)\n",
    "my_xticks = ['CRIM','ZN','INDUS','CHAS','NOX','RM','AGE','DIS','RAD','TAX','PTRATIO','B','LSTAT']\n",
    "plt.xticks(np.arange(13), my_xticks)\n",
    "plt.show()"
   ]
  },
  {
   "cell_type": "markdown",
   "metadata": {},
   "source": [
    "The big difference is that LASSO has eliminated the dependency on NOX. The previous two regressions were misleading. They gave a large NOX coefficient, suggesting that there is a strong dependency on the NOX value. However, since the NOX value is at least an order of magnitude smaller than the other variables, its total impact on prediction is rather small. LASSO is looking for as simple an explanation as possible for the output, and it eliminates NOX entirely.\n",
    "\n",
    "Finally, let's see how well LASSO performs on the test set in terms of MSE."
   ]
  },
  {
   "cell_type": "code",
   "execution_count": 22,
   "metadata": {},
   "outputs": [
    {
     "name": "stdout",
     "output_type": "stream",
     "text": [
      "0.541103466824\n"
     ]
    }
   ],
   "source": [
    "y_pred = lasso.predict(X_test)\n",
    "MSE = 1/len(y_test)*np.linalg.norm(y_test - y_pred)\n",
    "print(MSE)"
   ]
  },
  {
   "cell_type": "markdown",
   "metadata": {},
   "source": [
    "It's comparable to the previous two. For each regularization type, we have simplified the model while paying a negligible price in terms of prediction power.\n",
    "\n",
    "Since the number of variable is rather small, it is easy to underestimate the power of regularization models. When the number of predictors gets into the thousands or millions, the danger of overfitting and the benefit of an interpetable model become large. Here LASSO has pruned a single variable that is largely irrelevant from the prediction.\n",
    "\n",
    "To see better the benefits of ridge regression, we will isolate a small subset of the training set. Here, overfitting is a real danger, and regularization will give us a big win."
   ]
  },
  {
   "cell_type": "code",
   "execution_count": 26,
   "metadata": {},
   "outputs": [
    {
     "data": {
      "image/png": "[encoded data removed]",
      "text/plain": [
       "<matplotlib.figure.Figure at 0x2639fc835c0>"
      ]
     },
     "metadata": {},
     "output_type": "display_data"
    }
   ],
   "source": [
    "num_samples = 20\n",
    "train_indices = np.random.choice(len(y_train), num_samples, replace=False)\n",
    "X_small = X_train[train_indices]\n",
    "y_small = y_train[train_indices]\n",
    "\n",
    "lr_small = LinearRegression()\n",
    "lr_small.fit(X_small,y_small)\n",
    "\n",
    "rr_small = Ridge(alpha=1.0)\n",
    "rr_small.fit(X_small,y_small)\n",
    "\n",
    "lasso_small = Lasso(alpha=1.0)\n",
    "lasso_small.fit(X_small,y_small)\n",
    "\n",
    "\n",
    "plt.subplot(3,1,1)\n",
    "plt.stem(lr_small.coef_)\n",
    "my_xticks = ['CRIM','ZN','INDUS','CHAS','NOX','RM','AGE','DIS','RAD','TAX','PTRATIO','B','LSTAT']\n",
    "plt.xticks(np.arange(13), my_xticks)\n",
    "plt.title('Linear Regression')\n",
    "\n",
    "plt.subplot(3,1,2)\n",
    "plt.stem(rr_small.coef_)\n",
    "my_xticks = ['CRIM','ZN','INDUS','CHAS','NOX','RM','AGE','DIS','RAD','TAX','PTRATIO','B','LSTAT']\n",
    "plt.xticks(np.arange(13), my_xticks)\n",
    "plt.title('Ridge Regression')\n",
    "\n",
    "plt.subplot(3,1,3)\n",
    "plt.stem(lasso_small.coef_)\n",
    "my_xticks = ['CRIM','ZN','INDUS','CHAS','NOX','RM','AGE','DIS','RAD','TAX','PTRATIO','B','LSTAT']\n",
    "plt.xticks(np.arange(13), my_xticks)\n",
    "plt.title('LASSO Regression')\n",
    "\n",
    "plt.show()"
   ]
  },
  {
   "cell_type": "markdown",
   "metadata": {},
   "source": [
    "Standard linear regression is all over the map. Depending on the specific training examples chosen, we see wild varaition in the output coefficients. Both Ridge regression and LASSO are much better behaved -- picking up correctly on the trend that number of rooms is a positive correlation and pupil-teacher ratio is a negative one.\n",
    "\n",
    "Let's see the MSE performance over the test set. It turns out that the regularized models generalize better, as one would expect."
   ]
  },
  {
   "cell_type": "code",
   "execution_count": 202,
   "metadata": {},
   "outputs": [
    {
     "name": "stdout",
     "output_type": "stream",
     "text": [
      "1.05381984325\n",
      "0.794181119633\n",
      "0.82492067638\n"
     ]
    }
   ],
   "source": [
    "y_pred = lr_small.predict(X_test)\n",
    "MSE = 1/len(y_test)*np.linalg.norm(y_test - y_pred)\n",
    "print(np.sqrt(MSE))\n",
    "\n",
    "y_pred = rr_small.predict(X_test)\n",
    "MSE = 1/len(y_test)*np.linalg.norm(y_test - y_pred)\n",
    "print(np.sqrt(MSE))\n",
    "\n",
    "y_pred = lasso_small.predict(X_test)\n",
    "MSE = 1/len(y_test)*np.linalg.norm(y_test - y_pred)\n",
    "print(np.sqrt(MSE))"
   ]
  },
  {
   "cell_type": "code",
   "execution_count": null,
   "metadata": {
    "collapsed": true
   },
   "outputs": [],
   "source": []
  }
 ],
 "metadata": {
  "anaconda-cloud": {},
  "kernelspec": {
   "display_name": "Python 3",
   "language": "python",
   "name": "python3"
  },
  "language_info": {
   "codemirror_mode": {
    "name": "ipython",
    "version": 3
   },
   "file_extension": ".py",
   "mimetype": "text/x-python",
   "name": "python",
   "nbconvert_exporter": "python",
   "pygments_lexer": "ipython3",
   "version": "3.6.3"
  }
 },
 "nbformat": 4,
 "nbformat_minor": 1
}

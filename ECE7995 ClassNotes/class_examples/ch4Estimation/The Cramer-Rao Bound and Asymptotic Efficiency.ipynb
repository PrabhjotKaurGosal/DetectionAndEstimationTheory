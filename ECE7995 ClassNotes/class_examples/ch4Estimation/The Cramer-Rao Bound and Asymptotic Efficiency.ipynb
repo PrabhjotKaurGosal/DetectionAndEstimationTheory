{
 "cells": [
  {
   "cell_type": "markdown",
   "metadata": {},
   "source": [
    "# The Cramer-Rao Bound and Asymptotic Efficiency\n",
    "\n",
    "Here we'll see how the ML estimator is asymptotically efficient, even if it is biased. We'll do this with the exponential distribution, looping over many instances of its ML estimator, which is not biased and does not achieve the CRLB for any finite n."
   ]
  },
  {
   "cell_type": "code",
   "execution_count": 21,
   "metadata": {},
   "outputs": [
    {
     "data": {
      "image/png": "[encoded data removed]",
      "text/plain": [
       "<matplotlib.figure.Figure at 0x1f4812d7390>"
      ]
     },
     "metadata": {},
     "output_type": "display_data"
    },
    {
     "name": "stdout",
     "output_type": "stream",
     "text": [
      "mean: 2.23339653997\n",
      "variance: 0.63759510832\n",
      "CRB variance: 0.4\n"
     ]
    }
   ],
   "source": [
    "import numpy as np\n",
    "import matplotlib.pyplot as plt\n",
    "\n",
    "NUM_SAMPLES = 5000 #Number of samples to loop over\n",
    "rate = 2 #Set the rate of the exponential distribution\n",
    "\n",
    "n = 10\n",
    "crb_variance = rate**2/n\n",
    "rate_hat = np.zeros(NUM_SAMPLES)\n",
    "rate_hat_crb = np.zeros(NUM_SAMPLES)\n",
    "for i in range(0,NUM_SAMPLES):\n",
    "    y = np.random.exponential(1/rate,n)\n",
    "    rate_hat_crb[i] = rate + np.sqrt(crb_variance)*np.random.randn() #This is what an efficient estimator would look like\n",
    "    rate_hat[i] = 1/np.mean(y) #The ML estimate is the reciprocal of the sample mean\n",
    "    \n",
    "plt.hist(rate_hat,50)\n",
    "plt.hist(rate_hat_crb,50)\n",
    "plt.gca().legend(['ML','CRB'])\n",
    "plt.show()\n",
    "\n",
    "print('mean: '+str(np.mean(rate_hat)))\n",
    "print('variance: '+str(np.var(rate_hat)))\n",
    "print('CRB variance: '+str(crb_variance))"
   ]
  },
  {
   "cell_type": "markdown",
   "metadata": {},
   "source": [
    "It's straightforward to see that the distribution of the ML estimator is not that predicted by the CRB: It is biased, and its variance is not as predicted. Let's try a larger sample size!"
   ]
  },
  {
   "cell_type": "code",
   "execution_count": 22,
   "metadata": {},
   "outputs": [
    {
     "data": {
      "image/png": "[encoded data removed]",
      "text/plain": [
       "<matplotlib.figure.Figure at 0x1f4815a5e80>"
      ]
     },
     "metadata": {},
     "output_type": "display_data"
    },
    {
     "name": "stdout",
     "output_type": "stream",
     "text": [
      "mean: 2.09662727849\n",
      "variance: 0.246962915703\n",
      "CRB variance: 0.2\n"
     ]
    }
   ],
   "source": [
    "n = 20\n",
    "crb_variance = rate**2/n\n",
    "rate_hat = np.zeros(NUM_SAMPLES)\n",
    "rate_hat_crb = np.zeros(NUM_SAMPLES)\n",
    "for i in range(0,NUM_SAMPLES):\n",
    "    y = np.random.exponential(1/rate,n)\n",
    "    rate_hat_crb[i] = rate + np.sqrt(crb_variance)*np.random.randn() #This is what an efficient estimator would look like\n",
    "    rate_hat[i] = 1/np.mean(y) #The ML estimate is the reciprocal of the sample mean\n",
    "    \n",
    "plt.hist(rate_hat,50)\n",
    "plt.hist(rate_hat_crb,50)\n",
    "plt.gca().legend(['ML','CRB'])\n",
    "plt.show()\n",
    "\n",
    "print('mean: '+str(np.mean(rate_hat)))\n",
    "print('variance: '+str(np.var(rate_hat)))\n",
    "print('CRB variance: '+str(crb_variance))"
   ]
  },
  {
   "cell_type": "markdown",
   "metadata": {},
   "source": [
    "Sure enough, the mean is closer to 2, and the variance is closer to that predicted by the CRB. Let's go even higher!"
   ]
  },
  {
   "cell_type": "code",
   "execution_count": 23,
   "metadata": {},
   "outputs": [
    {
     "data": {
      "image/png": "[encoded data removed]",
      "text/plain": [
       "<matplotlib.figure.Figure at 0x1f480ff2a20>"
      ]
     },
     "metadata": {},
     "output_type": "display_data"
    },
    {
     "name": "stdout",
     "output_type": "stream",
     "text": [
      "mean: 2.03346433764\n",
      "variance: 0.0856195027526\n",
      "CRB variance: 0.08\n"
     ]
    }
   ],
   "source": [
    "n = 50\n",
    "crb_variance = rate**2/n\n",
    "rate_hat = np.zeros(NUM_SAMPLES)\n",
    "rate_hat_crb = np.zeros(NUM_SAMPLES)\n",
    "for i in range(0,NUM_SAMPLES):\n",
    "    y = np.random.exponential(1/rate,n)\n",
    "    rate_hat_crb[i] = rate + np.sqrt(crb_variance)*np.random.randn() #This is what an efficient estimator would look like\n",
    "    rate_hat[i] = 1/np.mean(y) #The ML estimate is the reciprocal of the sample mean\n",
    "    \n",
    "plt.hist(rate_hat,50)\n",
    "plt.hist(rate_hat_crb,50)\n",
    "plt.gca().legend(['ML','CRB'])\n",
    "plt.show()\n",
    "\n",
    "print('mean: '+str(np.mean(rate_hat)))\n",
    "print('variance: '+str(np.var(rate_hat)))\n",
    "print('CRB variance: '+str(crb_variance))"
   ]
  },
  {
   "cell_type": "markdown",
   "metadata": {},
   "source": [
    "At this point we're doing quite well. Note that the distribution of the ML estimator is looking more and more Gaussian, a consequence of the central limit theorem. Once more, at an even higher number of samples."
   ]
  },
  {
   "cell_type": "code",
   "execution_count": 24,
   "metadata": {},
   "outputs": [
    {
     "data": {
      "image/png": "[encoded data removed]",
      "text/plain": [
       "<matplotlib.figure.Figure at 0x1f481769240>"
      ]
     },
     "metadata": {},
     "output_type": "display_data"
    },
    {
     "name": "stdout",
     "output_type": "stream",
     "text": [
      "mean: 2.02602114868\n",
      "variance: 0.0416227008759\n",
      "CRB variance: 0.04\n"
     ]
    }
   ],
   "source": [
    "n = 100\n",
    "crb_variance = rate**2/n\n",
    "rate_hat = np.zeros(NUM_SAMPLES)\n",
    "rate_hat_crb = np.zeros(NUM_SAMPLES)\n",
    "for i in range(0,NUM_SAMPLES):\n",
    "    y = np.random.exponential(1/rate,n)\n",
    "    rate_hat_crb[i] = rate + np.sqrt(crb_variance)*np.random.randn() #This is what an efficient estimator would look like\n",
    "    rate_hat[i] = 1/np.mean(y) #The ML estimate is the reciprocal of the sample mean\n",
    "    \n",
    "plt.hist(rate_hat,50)\n",
    "plt.hist(rate_hat_crb,50)\n",
    "plt.gca().legend(['ML','CRB'])\n",
    "plt.show()\n",
    "\n",
    "print('mean: '+str(np.mean(rate_hat)))\n",
    "print('variance: '+str(np.var(rate_hat)))\n",
    "print('CRB variance: '+str(crb_variance))"
   ]
  },
  {
   "cell_type": "markdown",
   "metadata": {},
   "source": [
    "At this point the distributions are difficult to distinguish. Asymptotic efficiency, indeed!"
   ]
  }
 ],
 "metadata": {
  "kernelspec": {
   "display_name": "Python 3",
   "language": "python",
   "name": "python3"
  },
  "language_info": {
   "codemirror_mode": {
    "name": "ipython",
    "version": 3
   },
   "file_extension": ".py",
   "mimetype": "text/x-python",
   "name": "python",
   "nbconvert_exporter": "python",
   "pygments_lexer": "ipython3",
   "version": "3.6.3"
  }
 },
 "nbformat": 4,
 "nbformat_minor": 2
}

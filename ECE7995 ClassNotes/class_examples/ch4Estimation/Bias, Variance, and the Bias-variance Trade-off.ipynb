{
 "cells": [
  {
   "cell_type": "markdown",
   "metadata": {},
   "source": [
    "# Bias, Variance, and the Bias-variance Trade-off\n",
    "\n",
    "Here we'll spend time visualizing what it means for an estimator to be biased, what the variance of an estimator represents, and why there is an inherent trade-off between bias and variance. We'll do this with the simple example of estimating the mean and variance of a scalar Gaussian distribution."
   ]
  },
  {
   "cell_type": "code",
   "execution_count": 2,
   "metadata": {
    "collapsed": true
   },
   "outputs": [],
   "source": [
    "import numpy as np\n",
    "import matplotlib.pyplot as plt\n",
    "\n",
    "#Standard normal distribution\n",
    "mu = 0\n",
    "sigma_2 = 1"
   ]
  },
  {
   "cell_type": "markdown",
   "metadata": {},
   "source": [
    "First, suppose the mean is unknown but the variance known. Let's use the sample mean estimator, taken from n i.i.d. samples. To understand the estimator as a random variable, we'll loop over many *different* realizations of the data and its estimator.\n",
    "\n",
    "The histogram shows us that mu_hat is a Gaussian distribution. Its mean is clearly zero, which means that it's unbiased! And its variance is proportional to 1/n"
   ]
  },
  {
   "cell_type": "code",
   "execution_count": 5,
   "metadata": {},
   "outputs": [
    {
     "data": {
      "image/png": "[encoded data removed]",
      "text/plain": [
       "<matplotlib.figure.Figure at 0x1b5dc45a1d0>"
      ]
     },
     "metadata": {},
     "output_type": "display_data"
    }
   ],
   "source": [
    "NUM_SAMPLES = 1000\n",
    "n = 50\n",
    "\n",
    "mu_hat = np.zeros(NUM_SAMPLES)\n",
    "for i in range(0,NUM_SAMPLES):\n",
    "    y = np.random.randn(n) #n i.i.d. samples\n",
    "    mu_hat[i] = np.mean(y)\n",
    "\n",
    "plt.hist(mu_hat,50)\n",
    "plt.show()\n",
    "    "
   ]
  },
  {
   "cell_type": "markdown",
   "metadata": {},
   "source": [
    "Next, let's try using the sample *variance* estimator, supposing that the mean and variance are both unknown. We want to see that this estimator is in fact biased!"
   ]
  },
  {
   "cell_type": "code",
   "execution_count": 7,
   "metadata": {},
   "outputs": [
    {
     "data": {
      "image/png": "[encoded data removed]",
      "text/plain": [
       "<matplotlib.figure.Figure at 0x1b5db6efb00>"
      ]
     },
     "metadata": {},
     "output_type": "display_data"
    }
   ],
   "source": [
    "NUM_SAMPLES = 10000\n",
    "n = 50\n",
    "\n",
    "sigma_2_hat = np.zeros(NUM_SAMPLES)\n",
    "for i in range(0,NUM_SAMPLES):\n",
    "    y = np.random.randn(n) #n i.i.d. samples\n",
    "    mu_hat = np.mean(y)\n",
    "    sigma_2_hat[i] = np.mean((y - mu_hat)**2)\n",
    "\n",
    "plt.hist(sigma_2_hat,100)\n",
    "plt.show()"
   ]
  },
  {
   "cell_type": "markdown",
   "metadata": {},
   "source": [
    "Notice a few things. First, the sample variance is *not* Gaussian. In fact, it is distributed according to a *chi-square* distribution, which is roughly the distribution of the *square* of a Gaussian random variable. Second, and more important, the mean of this distribution is clearly not one. This is because the sample variance is biased by the constant $(n-1)/n)$. If we increase $n$, we get a distribution that is closer to being unbiased.\n",
    "\n",
    "Finally, let's look at the bias variance trade-off by altering the sample mean estimator from above. We'll see that by \"overdoing\" the averaging of samples, we can reduce the variance of the estimator, but we add bias."
   ]
  },
  {
   "cell_type": "code",
   "execution_count": 8,
   "metadata": {},
   "outputs": [
    {
     "data": {
      "image/png": "[encoded data removed]",
      "text/plain": [
       "<matplotlib.figure.Figure at 0x1b5dca00780>"
      ]
     },
     "metadata": {},
     "output_type": "display_data"
    }
   ],
   "source": [
    "NUM_SAMPLES = 10000\n",
    "n = 10\n",
    "c1 = 10\n",
    "c2 = 50\n",
    "\n",
    "mu_hat_ub = np.zeros(NUM_SAMPLES) #unbiased estimate\n",
    "mu_hat_b1 = np.zeros(NUM_SAMPLES) #first biased estimate\n",
    "mu_hat_b2 = np.zeros(NUM_SAMPLES) #second biased estimate\n",
    "for i in range(0,NUM_SAMPLES):\n",
    "    y = np.random.randn(n) + 1#n i.i.d. samples where the mean is 1!\n",
    "    mu_hat_ub[i] = np.mean(y)\n",
    "    mu_hat_b1[i] = n/(n+c1)*np.mean(y)\n",
    "    mu_hat_b2[i] = n/(n+c2)*np.mean(y)\n",
    "\n",
    "plt.hist(mu_hat_ub,50)\n",
    "plt.hist(mu_hat_b1,50)\n",
    "plt.hist(mu_hat_b2,50)\n",
    "plt.gca().legend(['Unbiased','c='+str(c1),'c='+str(c2)])\n",
    "plt.show()"
   ]
  },
  {
   "cell_type": "code",
   "execution_count": null,
   "metadata": {
    "collapsed": true
   },
   "outputs": [],
   "source": []
  }
 ],
 "metadata": {
  "kernelspec": {
   "display_name": "Python 3",
   "language": "python",
   "name": "python3"
  },
  "language_info": {
   "codemirror_mode": {
    "name": "ipython",
    "version": 3
   },
   "file_extension": ".py",
   "mimetype": "text/x-python",
   "name": "python",
   "nbconvert_exporter": "python",
   "pygments_lexer": "ipython3",
   "version": "3.6.3"
  }
 },
 "nbformat": 4,
 "nbformat_minor": 2
}

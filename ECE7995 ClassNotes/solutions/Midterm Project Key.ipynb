{
 "cells": [
  {
   "cell_type": "markdown",
   "metadata": {},
   "source": [
    "# Midterm Project: Eigenfaces\n",
    "\n",
    "Solution"
   ]
  },
  {
   "cell_type": "raw",
   "metadata": {},
   "source": [
    "Part I: Face Detection\n",
    "\n",
    "1) Download the Olivetti and MNIST datasets. You will need to resize the MNIST images to be 64x64; you can use scipy.misc.imresize() for this. Partition each dataset into TWO halves each: one for training, and one for testing."
   ]
  },
  {
   "cell_type": "code",
   "execution_count": 70,
   "metadata": {
    "collapsed": true
   },
   "outputs": [],
   "source": [
    "import numpy as np\n",
    "from sklearn.datasets import load_digits\n",
    "from sklearn.datasets import fetch_olivetti_faces\n",
    "from skimage import transform as tf\n",
    "\n",
    "import matplotlib.pyplot as plt"
   ]
  },
  {
   "cell_type": "code",
   "execution_count": 71,
   "metadata": {
    "collapsed": false
   },
   "outputs": [],
   "source": [
    "from sklearn.datasets import load_digits\n",
    "digits = load_digits()\n",
    "mnist_split_index = int(round(len(digits.images)/2))\n",
    "mnist_train_images = np.zeros((mnist_split_index,64,64))\n",
    "for i in range(0,mnist_split_index):\n",
    "    mnist_train_images[i,:,:] = tf.resize(digits.images[i],(64,64))/16 #standardize the pixel values\n",
    "mnist_train_labels = digits.target[:mnist_split_index]\n",
    "\n",
    "mnist_test_images = np.zeros((len(digits.images)-mnist_split_index,64,64))\n",
    "for i in range(0,len(digits.images)-mnist_split_index):\n",
    "    mnist_test_images[i,:,:] = tf.resize(digits.images[i+mnist_split_index],(64,64))/16 #standardize\n",
    "mnist_test_labels = digits.target[mnist_split_index:]\n",
    "\n",
    "from sklearn.datasets import fetch_olivetti_faces\n",
    "faces = fetch_olivetti_faces()\n",
    "faces_train_indices = np.random.choice(len(faces.images), int(len(faces.images)/2), replace=False) #choose images randomly for test/training\n",
    "faces_split_index = int(round(len(faces.images)/2))\n",
    "faces_train_images = faces.images[faces_train_indices]\n",
    "faces_train_labels = faces.target[faces_train_indices]\n",
    "\n",
    "faces_test_images = faces.images[~faces_train_indices]\n",
    "faces_test_labels = faces.target[~faces_train_indices]"
   ]
  },
  {
   "cell_type": "markdown",
   "metadata": {},
   "source": [
    "2) Using the training datasets, compute the mean for the face and digits datasets, denoted m_0 and m_1, respectively. Next, compute the empirical *covariance* matrix of each class, denoted K_0 and K_1; treating each image as a column vector x, the empirical covariance is found by averaging (x - m_i)*(x-m_i)^T for each class."
   ]
  },
  {
   "cell_type": "code",
   "execution_count": 72,
   "metadata": {
    "collapsed": true
   },
   "outputs": [],
   "source": [
    "m_0 = np.mean(faces_train_images,0).flatten()\n",
    "m_1 = np.mean(mnist_train_images,0).flatten()\n",
    "\n",
    "w_0 = np.resize(faces_train_images,(-1,64*64)) - m_0\n",
    "w_1 = np.resize(mnist_train_images,(-1,64*64)) - m_1\n",
    "\n",
    "K_0 = w_0.T@w_0/len(w_0)\n",
    "K_1 = w_1.T@w_1/len(w_1)"
   ]
  },
  {
   "cell_type": "markdown",
   "metadata": {},
   "source": [
    "3) Eigenfaces uses the PCA method to model the images. Take the eigenvector-eigenvalue decomposition of each matrix, and let U_0 and U_1 denote the matrix of the top 10 eigenvectors of K_0 and K_1, respectively. Make sure that the columns are of unit norm, so that they form an orthonormal set."
   ]
  },
  {
   "cell_type": "code",
   "execution_count": 73,
   "metadata": {
    "collapsed": true
   },
   "outputs": [],
   "source": [
    "k=10\n",
    "\n",
    "l_0, V_0 = np.linalg.eigh(K_0)\n",
    "l_1, V_1 = np.linalg.eigh(K_1)\n",
    "U_0 = V_0[:,-k:]\n",
    "U_1 = V_1[:,-k:]"
   ]
  },
  {
   "cell_type": "markdown",
   "metadata": {},
   "source": [
    "4) Your face detector will use the likelihoods p(y|H0) = N(mu_0, U_0*U_0^T + sigma^2*I) and  p(y|H1) = N(mu_1, U_1*U_1^T + sigma^2*I). Derive the Neyman-Pearson detector for this problem using these likelihood functions for sigma^2 of your choice. Empirically compute the ROC curve by drawing 1000 samples from each distribution and computing P_FA and P_D."
   ]
  },
  {
   "cell_type": "code",
   "execution_count": 111,
   "metadata": {
    "collapsed": false
   },
   "outputs": [],
   "source": [
    "sigma_2 = 50\n",
    "P_0 = U_0@U_0.T + 1/sigma_2*np.eye(64*64) #covariance inverses\n",
    "P_1 = U_1@U_1.T + 1/sigma_2*np.eye(64*64)\n",
    "\n",
    "b = m_1.T@P_1 - m_0.T@P_0\n",
    "S = (P_0 - P_1)\n",
    "\n",
    "NUM_SAMPLES = 1000\n",
    "NUM_THRESHOLDS = 20\n",
    "P_FA = np.zeros(NUM_THRESHOLDS)\n",
    "P_D = np.zeros(NUM_THRESHOLDS)\n",
    "thresholds = np.linspace(-1000,1000,NUM_THRESHOLDS)\n",
    "for j in range(0,NUM_THRESHOLDS):\n",
    "    for i in range(0,NUM_SAMPLES):\n",
    "        y_0 = m_0 + U_0@np.random.randn(k)  + np.sqrt(sigma_2)*np.random.randn(64*64)\n",
    "        if(b@y_0 + 1/2*y_0.T@S@y_0 > thresholds[j]):\n",
    "            P_FA[j] += 1/NUM_SAMPLES\n",
    "\n",
    "        y_1 = m_1 + U_1@np.random.randn(k)  + np.sqrt(sigma_2)*np.random.randn(64*64)\n",
    "        if(b@y_1 + 1/2*y_1.T@S@y_1 > thresholds[j]):\n",
    "            P_D[j] += 1/NUM_SAMPLES\n"
   ]
  },
  {
   "cell_type": "code",
   "execution_count": 108,
   "metadata": {
    "collapsed": false
   },
   "outputs": [
    {
     "data": {
      "image/png": "[encoded data removed]",
      "text/plain": [
       "<matplotlib.figure.Figure at 0x10cd3a8d0>"
      ]
     },
     "metadata": {},
     "output_type": "display_data"
    }
   ],
   "source": [
    "plt.plot(P_FA,P_D)\n",
    "plt.xlim(-0.01, 1.01)\n",
    "plt.ylim(-0.01, 1.01)\n",
    "plt.show()"
   ]
  },
  {
   "cell_type": "markdown",
   "metadata": {},
   "source": [
    "5) Now, use the *test* set to compute the ROC curve on real-world data. For each threshold, compute the empirical probability of false alarm and missed detection over the test images. Is this ROC curve the same as the one you computed in (4)? Why or why not?"
   ]
  },
  {
   "cell_type": "code",
   "execution_count": 110,
   "metadata": {
    "collapsed": false
   },
   "outputs": [
    {
     "data": {
      "image/png": "[encoded data removed]",
      "text/plain": [
       "<matplotlib.figure.Figure at 0x10da42a58>"
      ]
     },
     "metadata": {},
     "output_type": "display_data"
    }
   ],
   "source": [
    "NUM_THRESHOLDS = 50\n",
    "P_FA = np.zeros(NUM_THRESHOLDS)\n",
    "P_D = np.zeros(NUM_THRESHOLDS)\n",
    "thresholds = np.linspace(-1000,1000,NUM_THRESHOLDS)\n",
    "for j in range(0,NUM_THRESHOLDS):\n",
    "    for i in range(0,len(faces_test_images)):\n",
    "        y_0 = faces_test_images[i].flatten()\n",
    "        if(b@y_0 + 1/2*y_0.T@S@y_0 > thresholds[j]):\n",
    "            P_FA[j] += 1/len(faces_test_images)\n",
    "    for i in range(0,len(mnist_test_images)):\n",
    "        y_1 = mnist_test_images[i].flatten()\n",
    "        if(b@y_1 + 1/2*y_1.T@S@y_1 > thresholds[j]):\n",
    "            P_D[j] += 1/len(mnist_test_images)\n",
    "\n",
    "plt.plot(P_FA,P_D)\n",
    "plt.xlim(-0.01, 1.01)\n",
    "plt.ylim(-0.01, 1.01)\n",
    "plt.show()"
   ]
  },
  {
   "cell_type": "markdown",
   "metadata": {},
   "source": [
    "The ROC curves are rather different, because in this case I have added quite a bit of model noise. In practice the mean images are so different; even with lots of noise, the face images are very distinct from the digits."
   ]
  },
  {
   "cell_type": "markdown",
   "metadata": {},
   "source": [
    "PART II: Face recognition\n",
    "\n",
    "1) Compute the mean of each *class*, where each individual has her/his own class. Denote these means m_i."
   ]
  },
  {
   "cell_type": "code",
   "execution_count": 55,
   "metadata": {
    "collapsed": false
   },
   "outputs": [],
   "source": [
    "U = U_0\n",
    "M = 40\n",
    "m = np.zeros((M,64*64))\n",
    "for i in range(0,40):\n",
    "    indices = faces_train_labels == i\n",
    "    images = np.resize(faces_train_images[indices],(-1,64*64))\n",
    "    m[i,:] =  np.mean(images,0)"
   ]
  },
  {
   "cell_type": "markdown",
   "metadata": {},
   "source": [
    "2) The classifier will use p(y|Hi) = N(m_i, U*U^T + sigma^2*I) as the likelihood functions. Determine the maximum-likelihood classifier in terms of m_i, sigma^2, and U. Specifically, find an explicit expression for the inverse of the covariance U*U^T + sigma^2*I. For sigma^2 = {1, 10, 100}, determine the *confusion matrix* over the test set, i.e. the probability that an image of class i is classified as class j."
   ]
  },
  {
   "cell_type": "code",
   "execution_count": 62,
   "metadata": {
    "collapsed": false
   },
   "outputs": [
    {
     "data": {
      "image/png": "[encoded data removed]",
      "text/plain": [
       "<matplotlib.figure.Figure at 0x10d9eef60>"
      ]
     },
     "metadata": {},
     "output_type": "display_data"
    }
   ],
   "source": [
    "C = np.zeros((M,M))\n",
    "sigma_2 = 1\n",
    "P = U@U.T + 1/sigma_2*np.eye(64*64)\n",
    "\n",
    "for i in range(0,len(faces_test_labels)):\n",
    "    y = faces_test_images[i].flatten()\n",
    "    llfs = np.zeros(M)\n",
    "    for j in range(0,M):\n",
    "        llfs[j] = -(y - m[j,:]).T@P@(y - m[j,:])\n",
    "    label_estimate = np.argmax(llfs)\n",
    "    C[faces_test_labels[i],label_estimate] += 1\n",
    "\n",
    "plt.matshow(C)\n",
    "plt.show()"
   ]
  },
  {
   "cell_type": "markdown",
   "metadata": {},
   "source": [
    "3) Determine the form of the classifier in the limit of \\sigma^2 -> 0. Suggest a simple interpetation of this classifier in terms of looking at each image in the \"face space\" spanned by the columns of U. This form is the Eigenface detector suggested above; it is an approximation of the statistical classifier that is optimum in the limit of small model noise. Compute the confusion matrix for this classifier. Is there much change in performance?\n",
    "\n",
    "As \\sigma^2 ->0, the inverse covariance is merely U\\*U^T. So, the log-likelihood is proportional to (y - m_i)^T\\*U\\*U^T\\*(y - m_i) = || U^T\\*y - U^T\\*m_i||^2. So, a simple detector is to compute the mean of each class in \"face space\":  u_i = U^T\\*m_i, and then to compare the face space representation of the image to each of these means. This greatly accelerates the computational aspects of classification."
   ]
  },
  {
   "cell_type": "code",
   "execution_count": 64,
   "metadata": {
    "collapsed": false
   },
   "outputs": [
    {
     "data": {
      "image/png": "[encoded data removed]",
      "text/plain": [
       "<matplotlib.figure.Figure at 0x10db24978>"
      ]
     },
     "metadata": {},
     "output_type": "display_data"
    }
   ],
   "source": [
    "C = np.zeros((M,M))\n",
    "u = (U.T@m.T).T\n",
    "for i in range(0,len(faces_test_labels)):\n",
    "    y = faces_test_images[i].flatten()\n",
    "    projections = np.zeros(M)\n",
    "    for j in range(0,M):\n",
    "        projections[j] = np.linalg.norm(U.T@y - u[j,:])\n",
    "    label_estimate = np.argmin(projections)\n",
    "    C[faces_test_labels[i],label_estimate] += 1\n",
    "\n",
    "plt.matshow(C)\n",
    "plt.show()"
   ]
  }
 ],
 "metadata": {
  "anaconda-cloud": {},
  "kernelspec": {
   "display_name": "Python [default]",
   "language": "python",
   "name": "python3"
  },
  "language_info": {
   "codemirror_mode": {
    "name": "ipython",
    "version": 3
   },
   "file_extension": ".py",
   "mimetype": "text/x-python",
   "name": "python",
   "nbconvert_exporter": "python",
   "pygments_lexer": "ipython3",
   "version": "3.5.2"
  }
 },
 "nbformat": 4,
 "nbformat_minor": 2
}

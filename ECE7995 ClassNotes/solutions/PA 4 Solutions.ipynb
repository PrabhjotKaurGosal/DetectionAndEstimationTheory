{
 "cells": [
  {
   "cell_type": "markdown",
   "metadata": {},
   "source": [
    "# Python Assignment #4: Multiple Hypothesis Testing"
   ]
  },
  {
   "cell_type": "markdown",
   "metadata": {},
   "source": [
    "1) Repeat steps (1)-(3) for PA#2, except this time learn the mean and likelihood function for all ten classes '0' to '9'. Display a sample image from each class."
   ]
  },
  {
   "cell_type": "code",
   "execution_count": 26,
   "metadata": {
    "collapsed": false
   },
   "outputs": [
    {
     "data": {
      "image/png": "[encoded data removed]",
      "text/plain": [
       "<matplotlib.figure.Figure at 0x1198d9630>"
      ]
     },
     "metadata": {},
     "output_type": "display_data"
    }
   ],
   "source": [
    "import numpy as np\n",
    "import matplotlib.pyplot as plt\n",
    "from sklearn.datasets import load_digits\n",
    "digits = load_digits(n_class=10)\n",
    "images = digits.images\n",
    "targets = digits.target\n",
    "\n",
    "mu = np.zeros([10,8,8])\n",
    "\n",
    "fig, axs = plt.subplots(ncols=10, figsize=(20, 20))\n",
    "for i in range(0,10):\n",
    "    indices = targets == i\n",
    "    these_images = images[indices]\n",
    "    mu[i,:,:] =  np.mean(these_images,0)\n",
    "    axs[i].imshow(these_images[0,:,:],cmap=plt.cm.gray,interpolation=\"nearest\")\n",
    "plt.show()"
   ]
  },
  {
   "cell_type": "markdown",
   "metadata": {},
   "source": [
    "2) For sigma^2 = 1000, derive the *maximum-likelihood* detector. Drawing 1000 samples randomly and uniformly from the classes, compute empirically the probability of error. You may find it convenient to use a for loop over all the classes to implement the ML detector."
   ]
  },
  {
   "cell_type": "code",
   "execution_count": 33,
   "metadata": {
    "collapsed": false
   },
   "outputs": [
    {
     "name": "stdout",
     "output_type": "stream",
     "text": [
      "0.7410000000000005\n"
     ]
    }
   ],
   "source": [
    "sigma_2 = 1000\n",
    "NUM_SAMPLES = 1000\n",
    "\n",
    "P_e = 0\n",
    "for k in range(0,NUM_SAMPLES):\n",
    "    H = np.random.randint(0,10)\n",
    "    y = mu[H,:,:] + np.sqrt(sigma_2)*np.random.randn(8,8)\n",
    "    y = y.flatten()\n",
    "    norms = np.zeros(10)\n",
    "    for i in range(0,10):\n",
    "        norms[i] = np.dot(y-mu[i,:,:].flatten(),y-mu[i,:,:].flatten())\n",
    "    H_hat = np.argmin(norms)\n",
    "    if(H != H_hat):\n",
    "        P_e += 1/NUM_SAMPLES\n",
    "print(P_e)\n"
   ]
  },
  {
   "cell_type": "markdown",
   "metadata": {},
   "source": [
    "3) Next, you will compute the *confusion matrix* of the detector. The confusion matrix tells how often class i is confused for class j in a detector. In this case, you will build a 10x10 matrix where the (i,j)th element displays the fraction of the times that an image that comes from class i is \"confused\" as an image from class j. Each matrix entry should be between zero and one. For sigma^2 = 1000, draw 10,000 samples randomly and uniformly from the classes and compute the confusion matrix. What do you see? Are some classes more easily confused than others? Why?"
   ]
  },
  {
   "cell_type": "code",
   "execution_count": 40,
   "metadata": {
    "collapsed": false
   },
   "outputs": [
    {
     "data": {
      "image/png": "[encoded data removed]",
      "text/plain": [
       "<matplotlib.figure.Figure at 0x115b2db70>"
      ]
     },
     "metadata": {},
     "output_type": "display_data"
    }
   ],
   "source": [
    "sigma_2 = 1000\n",
    "NUM_SAMPLES = 10000\n",
    "\n",
    "C = np.zeros([10,10])\n",
    "for k in range(0,NUM_SAMPLES):\n",
    "    H = np.random.randint(0,10)\n",
    "    y = mu[H,:,:] + np.sqrt(sigma_2)*np.random.randn(8,8)\n",
    "    y = y.flatten()\n",
    "    norms = np.zeros(10)\n",
    "    for i in range(0,10):\n",
    "        norms[i] = np.dot(y-mu[i,:,:].flatten(),y-mu[i,:,:].flatten())\n",
    "    H_hat = np.argmin(norms)\n",
    "    C[H,H_hat] += 1/NUM_SAMPLES\n",
    "\n",
    "plt.matshow(C)\n",
    "plt.gray()\n",
    "plt.show()"
   ]
  },
  {
   "cell_type": "code",
   "execution_count": 46,
   "metadata": {
    "collapsed": false
   },
   "outputs": [
    {
     "data": {
      "image/png": "[encoded data removed]",
      "text/plain": [
       "<matplotlib.figure.Figure at 0x119620908>"
      ]
     },
     "metadata": {},
     "output_type": "display_data"
    }
   ],
   "source": [
    "sigma_2s = [10, 100, 500, 1000, 5000, 10000]\n",
    "NUM_SAMPLES = 500\n",
    "fig, axs = plt.subplots(nrows=len(sigma_2s), figsize=(20, 20))\n",
    "\n",
    "for j in range(0,len(sigma_2s)):\n",
    "    sigma_2 = sigma_2s[j]\n",
    "    C = np.zeros([10,10])\n",
    "    for k in range(0,NUM_SAMPLES):\n",
    "        H = np.random.randint(0,10)\n",
    "        y = mu[H,:,:] + np.sqrt(sigma_2)*np.random.randn(8,8)\n",
    "        y = y.flatten()\n",
    "        norms = np.zeros(10)\n",
    "        for i in range(0,10):\n",
    "            norms[i] = np.dot(y-mu[i,:,:].flatten(),y-mu[i,:,:].flatten())\n",
    "        H_hat = np.argmin(norms)\n",
    "        C[H,H_hat] += 1/NUM_SAMPLES\n",
    "    axs[j].matshow(C)\n",
    "\n",
    "plt.show()"
   ]
  },
  {
   "cell_type": "code",
   "execution_count": null,
   "metadata": {
    "collapsed": true
   },
   "outputs": [],
   "source": []
  }
 ],
 "metadata": {
  "kernelspec": {
   "display_name": "Python 3",
   "language": "python",
   "name": "python3"
  },
  "language_info": {
   "codemirror_mode": {
    "name": "ipython",
    "version": 3
   },
   "file_extension": ".py",
   "mimetype": "text/x-python",
   "name": "python",
   "nbconvert_exporter": "python",
   "pygments_lexer": "ipython3",
   "version": "3.6.0"
  }
 },
 "nbformat": 4,
 "nbformat_minor": 2
}

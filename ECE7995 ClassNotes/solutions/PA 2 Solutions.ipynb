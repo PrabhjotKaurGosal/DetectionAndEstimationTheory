{
 "cells": [
  {
   "cell_type": "markdown",
   "metadata": {},
   "source": [
    "# Python Assignment \\#2: Neyman-Pearson Detectors"
   ]
  },
  {
   "cell_type": "markdown",
   "metadata": {},
   "source": [
    "1) Load the **digits** dataset by importing the load_digits library from sklearn.datasets. (Visit http://scikit-learn.org/stable/modules/generated/sklearn.datasets.load_digits.html for detailed information about using this library.) This is the MNIST dataset, which is frequently used in machine learning for benchmarking the performance of a learning algorithm. After loading the dataset, display an image from the first two classes \"0\" and \"1\"."
   ]
  },
  {
   "cell_type": "code",
   "execution_count": 2,
   "metadata": {
    "collapsed": true
   },
   "outputs": [],
   "source": [
    "import numpy as np\n",
    "import matplotlib.pyplot as plt\n",
    "from sklearn.datasets import load_digits\n",
    "digits = load_digits(n_class=10)\n",
    "images = digits.images\n",
    "targets = digits.target"
   ]
  },
  {
   "cell_type": "code",
   "execution_count": 3,
   "metadata": {},
   "outputs": [
    {
     "data": {
      "image/png": "[encoded data removed]",
      "text/plain": [
       "<matplotlib.figure.Figure at 0x2a4475f6f60>"
      ]
     },
     "metadata": {},
     "output_type": "display_data"
    }
   ],
   "source": [
    "sub = plt.subplot(1,2,1)\n",
    "sub.axis(\"off\")\n",
    "plt.imshow(images[0],cmap=plt.cm.gray,interpolation=\"nearest\")\n",
    "\n",
    "sub = plt.subplot(1,2,2)\n",
    "sub.axis(\"off\")\n",
    "plt.imshow(images[1],cmap=plt.cm.gray,interpolation=\"nearest\")\n",
    "\n",
    "plt.show()"
   ]
  },
  {
   "cell_type": "markdown",
   "metadata": {},
   "source": [
    "2) You are going to build detectors that work on Gaussian distributions, where the model parameters are derived from the MNIST images. First, compute the aritmetic mean of the images in class 0 and class 1. Store the result in arrays called mu_0 and mu_1, respectively. Plot these means as 8x8 images."
   ]
  },
  {
   "cell_type": "code",
   "execution_count": 5,
   "metadata": {
    "scrolled": true
   },
   "outputs": [
    {
     "data": {
      "image/png": "[encoded data removed]",
      "text/plain": [
       "<matplotlib.figure.Figure at 0x2a447336d68>"
      ]
     },
     "metadata": {},
     "output_type": "display_data"
    }
   ],
   "source": [
    "#class 0\n",
    "indices_0 = targets == 0\n",
    "images_0 = images[indices_0]\n",
    "mu_0 =  np.mean(images_0,0)\n",
    "\n",
    "#class 1\n",
    "indices_1 = targets == 1\n",
    "images_1 = images[indices_1]\n",
    "mu_1 =  np.mean(images_1,0)\n",
    "\n",
    "sub = plt.subplot(1,2,1)\n",
    "sub.axis(\"off\")\n",
    "plt.imshow(mu_0,cmap=plt.cm.gray,interpolation=\"nearest\")\n",
    "\n",
    "sub = plt.subplot(1,2,2)\n",
    "sub.axis(\"off\")\n",
    "plt.imshow(mu_1,cmap=plt.cm.gray,interpolation=\"nearest\")\n",
    "\n",
    "plt.show()"
   ]
  },
  {
   "cell_type": "markdown",
   "metadata": {},
   "source": [
    "3) Now, we'll build up the Gaussian likelihood functions. Define a variable sigma_2, and let the likelihood functions be p(y|H=0) = N(mu_0,sigma_2 * I) and p(y|H=1) = N(mu_1,sigma_2 * I). For any value of sigma_2>0 you like, generate and plot a sample from the two distributions."
   ]
  },
  {
   "cell_type": "code",
   "execution_count": 31,
   "metadata": {},
   "outputs": [
    {
     "data": {
      "image/png": "[encoded data removed]",
      "text/plain": [
       "<matplotlib.figure.Figure at 0x10c957c88>"
      ]
     },
     "metadata": {},
     "output_type": "display_data"
    }
   ],
   "source": [
    "sigma_2 = 1\n",
    "y_0 = mu_0 + np.sqrt(sigma_2)*np.random.randn(8,8)\n",
    "y_1 = mu_1 + np.sqrt(sigma_2)*np.random.randn(8,8)\n",
    "\n",
    "sub = plt.subplot(1,2,1)\n",
    "sub.axis(\"off\")\n",
    "plt.imshow(y_0,cmap=plt.cm.gray,interpolation=\"nearest\")\n",
    "\n",
    "sub = plt.subplot(1,2,2)\n",
    "sub.axis(\"off\")\n",
    "plt.imshow(y_1,cmap=plt.cm.gray,interpolation=\"nearest\")\n",
    "\n",
    "plt.show()"
   ]
  },
  {
   "cell_type": "markdown",
   "metadata": {},
   "source": [
    "4) For sigma_2=1000, derive the Neyman-Pearson detector associated with the LLR nu=0. Draw 1000 samples from p(y|H=0), put them through the detector, and estimate the false-alarm probability. Repeat for 1000 samples from p(y|H=1) and the detection probability. Then, repeat for nu=500 and mu=-500."
   ]
  },
  {
   "cell_type": "code",
   "execution_count": 39,
   "metadata": {},
   "outputs": [
    {
     "name": "stdout",
     "output_type": "stream",
     "text": [
      "0.3940000000000003\n",
      "0.8620000000000007\n"
     ]
    }
   ],
   "source": [
    "NUM_SAMPLES = 1000\n",
    "sigma_2 = 1000\n",
    "p_fa = 0\n",
    "p_d = 0\n",
    "\n",
    "w = mu_1.flatten() - mu_0.flatten()\n",
    "threshold =  -500 + 1/2*(mu_1.flatten().T@mu_1.flatten() - mu_0.flatten().T@mu_0.flatten())\n",
    "for i in range(0,NUM_SAMPLES):\n",
    "    y = mu_0 + np.sqrt(sigma_2)*np.random.randn(8,8)\n",
    "    y = y.flatten()\n",
    "    if(w.T@y > threshold):\n",
    "        p_fa += 1/NUM_SAMPLES\n",
    "\n",
    "for i in range(0,NUM_SAMPLES):\n",
    "    y = mu_1 + np.sqrt(sigma_2)*np.random.randn(8,8)\n",
    "    y = y.flatten()\n",
    "    if(w.T@y > threshold):\n",
    "        p_d += 1/NUM_SAMPLES\n",
    "        \n",
    "print(p_fa)\n",
    "print(p_d)"
   ]
  },
  {
   "cell_type": "markdown",
   "metadata": {},
   "source": [
    "5) For noise variances sigma_2 = {10,100,500,1000,5000,10000}, numerically compute and plot the ROC curve. Do this by computing P_fa and P_d for a range of threshold values as in part (4), and plotting the resulting (P_fa,P_d) points on an axis. You will need to experiment with the range of threshold values to get a nice plot.\n",
    "\n",
    "Put all of the ROC curves on the same plot, and put a legend on the plot to show which curve is associated with which value of sigma_2.  Is the resulting ROC curve convex?"
   ]
  },
  {
   "cell_type": "code",
   "execution_count": 60,
   "metadata": {},
   "outputs": [
    {
     "data": {
      "image/png": "[encoded data removed]",
      "text/plain": [
       "<matplotlib.figure.Figure at 0x11057c7f0>"
      ]
     },
     "metadata": {},
     "output_type": "display_data"
    }
   ],
   "source": [
    "NUM_SAMPLES = 5000\n",
    "sigma_2s = [100,500,1000,5000,10000]\n",
    "thresholds = np.arange(-5000,5000,100)\n",
    "\n",
    "w = mu_1.flatten() - mu_0.flatten()\n",
    "\n",
    "for i in range(0,len(sigma_2s)):\n",
    "    p_fa = np.zeros(thresholds.size)\n",
    "    p_d = np.zeros(thresholds.size)\n",
    "    for j in range(0,thresholds.size):\n",
    "        sigma_2 = sigma_2s[i]\n",
    "        threshold =  thresholds[j] + 1/2*(mu_1.flatten().T@mu_1.flatten() - mu_0.flatten().T@mu_0.flatten())\n",
    "        \n",
    "        for k in range(0,NUM_SAMPLES):\n",
    "            y = mu_0 + np.sqrt(sigma_2)*np.random.randn(8,8)\n",
    "            y = y.flatten()\n",
    "            if(w.T@y > threshold):\n",
    "                p_fa[j] += 1/NUM_SAMPLES\n",
    "\n",
    "        for k in range(0,NUM_SAMPLES):\n",
    "            y = mu_1 + np.sqrt(sigma_2)*np.random.randn(8,8)\n",
    "            y = y.flatten()\n",
    "            if(w.T@y > threshold):\n",
    "                p_d[j] += 1/NUM_SAMPLES\n",
    "\n",
    "    plt.plot(p_fa,p_d)\n",
    "\n",
    "plt.xlabel(\"Test size\")\n",
    "plt.ylabel(\"Detection Probability\")\n",
    "plt.gca().set_aspect(1,'box')\n",
    "plt.xlim(xmax=1)\n",
    "plt.ylim(ymax=1)\n",
    "plt.gca().legend(['sigma^2 = 100','sigma^2 = 500','sigma^2 = 1000','sigma^2 = 5000','sigma^2 = 10000'],loc=0,fontsize=8)\n",
    "plt.tight_layout()\n",
    "plt.show()"
   ]
  },
  {
   "cell_type": "code",
   "execution_count": null,
   "metadata": {
    "collapsed": true
   },
   "outputs": [],
   "source": []
  }
 ],
 "metadata": {
  "anaconda-cloud": {},
  "kernelspec": {
   "display_name": "Python 3",
   "language": "python",
   "name": "python3"
  },
  "language_info": {
   "codemirror_mode": {
    "name": "ipython",
    "version": 3
   },
   "file_extension": ".py",
   "mimetype": "text/x-python",
   "name": "python",
   "nbconvert_exporter": "python",
   "pygments_lexer": "ipython3",
   "version": "3.6.3"
  }
 },
 "nbformat": 4,
 "nbformat_minor": 1
}

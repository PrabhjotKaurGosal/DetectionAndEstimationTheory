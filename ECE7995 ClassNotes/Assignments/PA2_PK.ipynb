{
 "cells": [
  {
   "cell_type": "markdown",
   "metadata": {},
   "source": [
    "# Python Assignment 2\n",
    "\n",
    " ECE 7995_1801_003: Detection and Estimation \n",
    " Submitted By: Prabhjot Kaur"
   ]
  },
  {
   "cell_type": "code",
   "execution_count": 1,
   "metadata": {
    "collapsed": true
   },
   "outputs": [],
   "source": [
    "import numpy as np\n",
    "from scipy import linalg\n",
    "from sklearn import datasets\n",
    "\n",
    "import matplotlib.pyplot as plt"
   ]
  },
  {
   "cell_type": "code",
   "execution_count": 86,
   "metadata": {},
   "outputs": [
    {
     "data": {
      "text/plain": [
       "<matplotlib.figure.Figure at 0x20ff6e78390>"
      ]
     },
     "metadata": {},
     "output_type": "display_data"
    },
    {
     "data": {
      "image/png": "[encoded data removed]",
      "text/plain": [
       "<matplotlib.figure.Figure at 0x20ff6dfb5c0>"
      ]
     },
     "metadata": {},
     "output_type": "display_data"
    },
    {
     "name": "stdout",
     "output_type": "stream",
     "text": [
      "This image belongs to class 0\n"
     ]
    },
    {
     "data": {
      "text/plain": [
       "<matplotlib.figure.Figure at 0x20ff6f4c860>"
      ]
     },
     "metadata": {},
     "output_type": "display_data"
    },
    {
     "data": {
      "image/png": "[encoded data removed]",
      "text/plain": [
       "<matplotlib.figure.Figure at 0x20ff972da58>"
      ]
     },
     "metadata": {},
     "output_type": "display_data"
    },
    {
     "name": "stdout",
     "output_type": "stream",
     "text": [
      "This image belongs to class 1\n"
     ]
    }
   ],
   "source": [
    "#### Q1 Load the digits dataset by importing the load_digits library from sklearn.datasets.\n",
    "#       After loading the dataset, display an image from the first two classes \"0\" and \"1\".\n",
    "\n",
    "digits = datasets.load_digits()\n",
    "\n",
    "plt.gray() \n",
    "plt.matshow(digits.images[0]) \n",
    "plt.show() \n",
    "print(\"This image belongs to class\", digits.target[0])\n",
    "\n",
    "plt.gray() \n",
    "plt.matshow(digits.images[1]) \n",
    "plt.show()\n",
    "print(\"This image belongs to class\", digits.target[1])"
   ]
  },
  {
   "cell_type": "code",
   "execution_count": 87,
   "metadata": {},
   "outputs": [
    {
     "data": {
      "text/plain": [
       "<matplotlib.figure.Figure at 0x20ff986b048>"
      ]
     },
     "metadata": {},
     "output_type": "display_data"
    },
    {
     "data": {
      "image/png": "[encoded data removed]",
      "text/plain": [
       "<matplotlib.figure.Figure at 0x20ff986b358>"
      ]
     },
     "metadata": {},
     "output_type": "display_data"
    },
    {
     "data": {
      "text/plain": [
       "<matplotlib.figure.Figure at 0x20ff9724518>"
      ]
     },
     "metadata": {},
     "output_type": "display_data"
    },
    {
     "data": {
      "image/png": "[encoded data removed]",
      "text/plain": [
       "<matplotlib.figure.Figure at 0x20ff9724898>"
      ]
     },
     "metadata": {},
     "output_type": "display_data"
    }
   ],
   "source": [
    "#### Q2 You are going to build detectors that work on Gaussian distributions, where the model parameters are derived from the MNIST images. \n",
    "#       First, compute the arithmetic mean of the images in class 0 and class 1 of the dataset. \n",
    "#       Store the result in arrays called mu_0 and mu_1, respectively. \n",
    "#       Plot these means as 8x8 images. Do they look like digits of the corresponding class?\n",
    "\n",
    "digits = datasets.load_digits()\n",
    "#print(digits.data.shape)\n",
    "\n",
    "count_cl0 =0\n",
    "count_cl1 =0\n",
    "sum_cl0 = 0\n",
    "sum_cl1 = 0\n",
    "for i in range(0, digits.data.shape[0]):\n",
    "    if digits.target[i] == 0:\n",
    "        count_cl0 = count_cl0 + 1\n",
    "        sum_cl0 = sum_cl0 + digits.images[i]\n",
    "    elif digits.target[i] == 1:\n",
    "        count_cl1 = count_cl1 + 1;\n",
    "        sum_cl1 = sum_cl1 + digits.images[i]\n",
    "        \n",
    "mu_0 = sum_cl0/count_cl0\n",
    "mu_1 = sum_cl1/count_cl1\n",
    "\n",
    "plt.gray() \n",
    "plt.matshow(mu_0)\n",
    "plt.title('The arithemetic mean of images in class 0')\n",
    "plt.show() \n",
    "\n",
    "\n",
    "plt.gray() \n",
    "plt.matshow(mu_1) \n",
    "plt.title('The arithemetic mean of images in class 1')\n",
    "plt.show()\n"
   ]
  },
  {
   "cell_type": "code",
   "execution_count": null,
   "metadata": {
    "collapsed": true
   },
   "outputs": [],
   "source": [
    "## Yes, the arithemetic mean looks like the digits from classes 0 and 1,respectively. "
   ]
  },
  {
   "cell_type": "code",
   "execution_count": 4,
   "metadata": {},
   "outputs": [
    {
     "data": {
      "text/plain": [
       "<matplotlib.figure.Figure at 0x20ff67942b0>"
      ]
     },
     "metadata": {},
     "output_type": "display_data"
    },
    {
     "data": {
      "image/png": "[encoded data removed]",
      "text/plain": [
       "<matplotlib.figure.Figure at 0x20ff4b307b8>"
      ]
     },
     "metadata": {},
     "output_type": "display_data"
    },
    {
     "data": {
      "text/plain": [
       "<matplotlib.figure.Figure at 0x20ff6a51710>"
      ]
     },
     "metadata": {},
     "output_type": "display_data"
    },
    {
     "data": {
      "image/png": "[encoded data removed]",
      "text/plain": [
       "<matplotlib.figure.Figure at 0x20ff6a51630>"
      ]
     },
     "metadata": {},
     "output_type": "display_data"
    }
   ],
   "source": [
    "#### Q3: Now, you'll build up the Gaussian likelihood functions. \n",
    "#        Define a variable sigma_2, and let the likelihood functions be p(y|H=0) = N(mu_0,sigma_2*I) and p(y|H=1) = N(mu_1,sigma_2*I). \n",
    "#        For any value of sigma_2>0 you like, generate and plot a sample from the two distributions.\n",
    "\n",
    "sigma_2 = 0.005\n",
    "\n",
    "mu_0 = np.reshape(mu_0,-1)   #convert matrix mu_0 to a vector. This is the mean of samples in class 0 \n",
    "cov_0 = np.dot(sigma_2,np.eye(mu_0.shape[0])) # Covaraince for samples in class 0\n",
    "rand_multiVar_Gauss_0 = np.random.multivariate_normal(mu_0,cov_0, 1) #draw one random sample from this distribution \n",
    "rand_multiVar_Gauss_matrix_0 = np.reshape(rand_multiVar_Gauss_0,[int(np.sqrt(np.shape(rand_multiVar_Gauss_0)[1])),int(np.sqrt(np.shape(rand_multiVar_Gauss_0)[1]))]) #convert vector to a matrix for plotting\n",
    "plt.gray() \n",
    "plt.matshow(rand_multiVar_Gauss_matrix_0) \n",
    "plt.show()\n",
    "\n",
    "\n",
    "mu_1 = np.reshape(mu_1,-1)   #convert matrix mu_1 to a vector. This the mean of samples in class 1 \n",
    "cov_1 = np.dot(sigma_2,np.eye(mu_1.shape[0])) # Covaraince for samples in class 1\n",
    "rand_multiVar_Gauss_1 = np.random.multivariate_normal(mu_1,cov_1, 1) #draw one random sample from this distribution\n",
    "rand_multiVar_Gauss_matrix_1 = np.reshape(rand_multiVar_Gauss_1,[int(np.sqrt(np.shape(rand_multiVar_Gauss_1)[1])),int(np.sqrt(np.shape(rand_multiVar_Gauss_1)[1]))]) #convert vector to a matrix for plottingg\n",
    "plt.gray() \n",
    "plt.matshow(rand_multiVar_Gauss_matrix_1) \n",
    "plt.show()\n"
   ]
  },
  {
   "cell_type": "code",
   "execution_count": 85,
   "metadata": {},
   "outputs": [
    {
     "name": "stdout",
     "output_type": "stream",
     "text": [
      "For sigma_2 = 1000: \n",
      "The false alarm probability and detection probability associated with threshold = -500 are: 1.0 and 1.0 ,respectively\n",
      "The false alarm probability and detection probability associated with threshold = 500 are: 0.0 and 0.0 ,respectively\n",
      "The false alarm probability and detection probability associated with threshold = 0 are: 0.262 and 0.729 ,respectively\n"
     ]
    }
   ],
   "source": [
    "#### Q4 For sigma_2=1000, derive the Neyman-Pearson detector associated with the LLR nu=0. \n",
    "#       Draw 1000 samples from p(y|H=0), put them through the detector, and estimate the false-alarm probability. \n",
    "#       Repeat for 1000 samples from p(y|H=1) and the detection probability. Then, repeat for nu=500 and nu=-500.\n",
    "\n",
    "sigma_2 = 1000;\n",
    "sample_size = 1000\n",
    "nu = 0  #v  -imples that eta = 1\n",
    "\n",
    "cov_sig1000 = np.dot(sigma_2,np.eye(mu_0.shape[0])) # Covaraince for samples in class 0 and class 1 (case of same covariance)\n",
    "rand_multiVar_Gauss_0_sig1000 = np.random.multivariate_normal(mu_0,cov_0_sig1000, sample_size) # this yields sample_size X 64 matrix\n",
    "rand_multiVar_Gauss_1_sig1000 = np.random.multivariate_normal(mu_1,cov_0_sig1000, sample_size) # this yields sample_size X 64 matrix\n",
    "\n",
    "# pass these samples through a detector, where the detector gives an output '0' if the sample <= nu and '1' if the sample is > nnu\n",
    "var = np.dot(np.transpose(mu_1-mu_0),np.linalg.inv(cov_0_sig1000))\n",
    "\n",
    "nu = np.arange(-500,501,1)\n",
    "Pfa_H0 = np.zeros(nu.size)    \n",
    "Pd_H1 = np.zeros(nu.size)\n",
    "\n",
    "for j in range(0, nu.size):\n",
    "    for k in range(0, sample_size):\n",
    "        compare_0 = np.dot(var,rand_multiVar_Gauss_0_sig1000[k, :])\n",
    "        if compare_0 > nu[j]:\n",
    "            Pfa_H0[j] = (Pfa_H0[j]) + 1/sample_size\n",
    "        \n",
    "    for l in range(0, sample_size):\n",
    "        compare_1 = np.dot(var,rand_multiVar_Gauss_1_sig1000[l, :])\n",
    "        if compare_1 > nu[j]:\n",
    "            Pd_H1[j] = (Pd_H1[j]) + 1/sample_size \n",
    "\n",
    "print('For sigma_2 = 1000: ')\n",
    "print('The false alarm probability and detection probability associated with threshold =', nu[0],'are:',Pfa_H0[0],'and',Pd_H1[0],',respectively')\n",
    "print('The false alarm probability and detection probability associated with threshold =', nu[-1],'are:',Pfa_H0[-1],'and',Pd_H1[-1],',respectively')\n",
    "print('The false alarm probability and detection probability associated with threshold =', nu[500],'are:',Pfa_H0[500],'and',Pd_H1[500],',respectively')\n",
    "\n",
    "\n"
   ]
  },
  {
   "cell_type": "code",
   "execution_count": 83,
   "metadata": {},
   "outputs": [
    {
     "data": {
      "image/png": "[encoded data removed]",
      "text/plain": [
       "<matplotlib.figure.Figure at 0x20ff6cc2160>"
      ]
     },
     "metadata": {},
     "output_type": "display_data"
    }
   ],
   "source": [
    "#### Q5 For noise variances sigma_2 = {10,100,500,1000,5000,10000}, numerically compute and plot the ROC curve. \n",
    "#       Do this by computing P_fa and P_d for a range of threshold values as in part (4), \n",
    "#       and plotting the resulting (P_fa,P_d) points on an axis. \n",
    "#       You will need to experiment with the range of threshold values to get a nice plot.\n",
    "\n",
    "sigma_2 = np.array([10,100,500,1000,5000,10000])\n",
    "sample_size = 1000\n",
    "nu = np.arange(-500,500,1)  #range of threshold\n",
    "Pfa_H0 = np.zeros((sigma_2.size, nu.size))    \n",
    "Pd_H1 = np.zeros((sigma_2.size, nu.size))\n",
    "\n",
    "for sigma in range(0,sigma_2.size):\n",
    "    covarience = np.dot(sigma_2[sigma],np.eye(mu_0.shape[0])) # Covaraince for samples in class 0 and class 1 (case of same covariance)\n",
    "    rand_multiVar_Gauss_0 = np.random.multivariate_normal(mu_0,covarience, sample_size) # this yields sample_size X 64 matrix\n",
    "    rand_multiVar_Gauss_1 = np.random.multivariate_normal(mu_1,covarience, sample_size) # this yields sample_size X 64 matrix\n",
    "    \n",
    "    # pass these samples through a detector, where the detector gives an output '0' if the sample <= nu and '1' if the sample is > nn\n",
    "    var = np.dot(np.transpose(mu_1-mu_0),np.linalg.inv(covarience))\n",
    "    \n",
    "    for j in range(0, nu.size):\n",
    "        for k in range(0, sample_size):\n",
    "            compare_0 = np.dot(var,rand_multiVar_Gauss_0[k, :])\n",
    "            if compare_0 > nu[j]:\n",
    "                Pfa_H0[sigma,j] = (Pfa_H0[sigma,j]) + 1/sample_size\n",
    "                \n",
    "        for l in range(0, sample_size):\n",
    "            compare_1 = np.dot(var,rand_multiVar_Gauss_1[l, :])\n",
    "            if compare_1 > nu[j]:\n",
    "                Pd_H1[sigma,j] = (Pd_H1[sigma,j]) +1/sample_size\n",
    "\n",
    "plt.plot(Pfa_H0[0, :],Pd_H1[0,:],Pfa_H0[1, :],Pd_H1[1,:],Pfa_H0[2, :],Pd_H1[2,:],Pfa_H0[3, :],Pd_H1[3,:],Pfa_H0[4, :],Pd_H1[4,:],Pfa_H0[5, :],Pd_H1[5,:])\n",
    "plt.show()"
   ]
  },
  {
   "cell_type": "code",
   "execution_count": null,
   "metadata": {
    "collapsed": true
   },
   "outputs": [],
   "source": []
  }
 ],
 "metadata": {
  "kernelspec": {
   "display_name": "Python 3",
   "language": "python",
   "name": "python3"
  },
  "language_info": {
   "codemirror_mode": {
    "name": "ipython",
    "version": 3
   },
   "file_extension": ".py",
   "mimetype": "text/x-python",
   "name": "python",
   "nbconvert_exporter": "python",
   "pygments_lexer": "ipython3",
   "version": "3.6.4"
  }
 },
 "nbformat": 4,
 "nbformat_minor": 2
}
